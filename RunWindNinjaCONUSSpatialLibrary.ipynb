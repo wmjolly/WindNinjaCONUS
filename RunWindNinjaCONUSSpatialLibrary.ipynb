{
 "cells": [
  {
   "cell_type": "markdown",
   "id": "be938b63-40bc-42ed-96fc-032c0ea3863a",
   "metadata": {},
   "source": [
    "## WindNinja CONUS Spatial Library"
   ]
  },
  {
   "cell_type": "markdown",
   "id": "b0f667d7-673d-4629-b876-5dd85147770f",
   "metadata": {},
   "source": [
    "Creates spatial library of WindNinja simulations at 240m that match the NARR 32km grid dimensions\n",
    "\n",
    "W. Matt Jolly, USFS, RMRS, Missoula Fire Sciences Laboratory\n",
    "25 Sept 2024"
   ]
  },
  {
   "cell_type": "code",
   "execution_count": null,
   "id": "2f50e882-965f-4dfc-b2ad-0a8aee88eae1",
   "metadata": {},
   "outputs": [],
   "source": [
    "import ipyparallel as ipp\n",
    "import requests,os,math, rioxarray, timeit\n",
    "import xarray as xr\n",
    "import numpy as np\n",
    "from osgeo import gdal\n",
    "import warnings\n",
    "warnings.filterwarnings('ignore')\n",
    "import matplotlib.pyplot as plt\n",
    "import pandas as pd\n",
    "import geopandas as gpd\n",
    "from Download import *\n",
    "import contextily as cx\n",
    "from rioxarray.merge import merge_arrays"
   ]
  },
  {
   "cell_type": "code",
   "execution_count": null,
   "id": "9290f902-055a-412f-be77-60f1bb2533cd",
   "metadata": {},
   "outputs": [],
   "source": [
    "#narropath = 'E:/Data/NARR/Data/'\n",
    "bndryfile = 'WindNinjaData/ne_10m_admin_1_states_provinces_lakes.shp'  # From Natural Earth\n",
    "WindNinja_cli = 'C:/WindNinja/WindNinja-3.11.0/bin/WindNinja_cli.exe'  # Installed as part of WindNinja desktop\n",
    "conus_dem_file = 'WindNinjaData/LC20_Elev_220_RS_240m.tif'             # Resamples from the LANDFIRE 2020 DEM\n",
    "## This is where all the outputs will be written\n",
    "basedir = 'E:/Data/WindNinja/CONUS/'                                   # Set this to anything, must create the parent directory (CONUS in this example)"
   ]
  },
  {
   "cell_type": "code",
   "execution_count": null,
   "id": "7008d55a-80c2-44c0-be98-1abf285e1e5f",
   "metadata": {},
   "outputs": [],
   "source": [
    "# Function\" MakeAndCallWindNinjaCLICmd\n",
    "# Purpose: Form the command for a call to the WindNinja CLI and spawn a system call to it\n",
    "# Inputs:\n",
    "## This is an example args dictionary: args = {'input_speed' : 5, 'input_direction' : 0, 'elevation_file' : dempath, 'WindNinja_cli':WindNinja_cli}\n",
    "## Note: Lots of parameters are fixed inside this function \n",
    "def MakeAndCallWindNinjaCLICmd(args):\n",
    "    import os\n",
    "    from osgeo import gdal\n",
    "    WindNinja_cli = args['WindNinja_cli']\n",
    "    initialization_method = \"domainAverageInitialization\"\n",
    "    output_wind_height = 10\n",
    "    units_output_wind_height = 'm'\n",
    "    elevation_file = args['elevation_file']\n",
    "    input_speed = args['input_speed'] \n",
    "    input_direction = args['input_direction']\n",
    "    input_speed_units = 'mph'  \n",
    "    input_wind_height = 10 \n",
    "    units_input_wind_height = 'm' \n",
    "    vegetation = 'grass' \n",
    "    mesh_resolution = 240 \n",
    "    units_mesh_resolution = 'm' \n",
    "    write_ascii_output = 1 \n",
    "    num_threads = 1\n",
    "    cmd = f'{WindNinja_cli} --elevation_file {elevation_file} --initialization_method {initialization_method} --output_wind_height {output_wind_height}\\\n",
    "        --units_output_wind_height {units_output_wind_height} --input_speed {input_speed} --input_speed_units {input_speed_units} --input_direction {input_direction}\\\n",
    "        --input_wind_height {input_wind_height} --units_input_wind_height {units_input_wind_height} --vegetation {vegetation} --mesh_resolution {mesh_resolution}\\\n",
    "        --units_mesh_resolution {units_mesh_resolution} --write_ascii_output {write_ascii_output} --num_threads {num_threads}'\n",
    "    os.system(cmd)\n",
    "    return 0"
   ]
  },
  {
   "cell_type": "code",
   "execution_count": null,
   "id": "b951c664-4608-4da4-8eb2-019f7662ff8e",
   "metadata": {},
   "outputs": [],
   "source": [
    "bnd = gpd.read_file(bndryfile, engine='pyogrio', use_arrow=True)\n",
    "bnd = bnd[bnd['gu_a3'] == 'USA']\n",
    "bnd = bnd[(bnd['name'] != \"Alaska\")]\n",
    "bnd = bnd[(bnd['name'] != \"Hawaii\")]"
   ]
  },
  {
   "cell_type": "code",
   "execution_count": null,
   "id": "49f72e6f-d2e3-4a6b-ba7f-3a37d08b1f93",
   "metadata": {},
   "outputs": [],
   "source": [
    "#mtbnd = bnd[bnd['name'] == 'Montana']  "
   ]
  },
  {
   "cell_type": "code",
   "execution_count": null,
   "id": "5df21196-5b75-43e3-b6c4-f307d81aef18",
   "metadata": {},
   "outputs": [],
   "source": [
    "#ax = bnd.plot()\n",
    "#mtbnd.plot(ax=ax,edgecolor='red',facecolor='none')"
   ]
  },
  {
   "cell_type": "code",
   "execution_count": null,
   "id": "39372c00-e846-405b-a40d-ff77862dd22a",
   "metadata": {},
   "outputs": [],
   "source": [
    "narr_proj4 = \"+proj=lcc +lat_1=50 +lat_0=50 +lon_0=-107 +k_0=1 +x_0=5632642.22547 +y_0=4612545.65137 +a=6371200 +b=6371200 +units=m +no_defs\"\n",
    "bnd_narr_proj = bnd.to_crs(narr_proj4)    # Reproject the boundary file to the NARR projection"
   ]
  },
  {
   "cell_type": "code",
   "execution_count": null,
   "id": "b7924cb0-5681-42c3-9a47-36d96e0aae1a",
   "metadata": {},
   "outputs": [],
   "source": [
    "# This is what I did to get a single WS layer from the NARR grids....\n",
    "#y = 2023\n",
    "#opath = narropath\n",
    "#ofile = f'{opath}wsmax.10m.{y}.nc'\n",
    "#vfile = f'{opath}vwnd.10m.{y}.nc'\n",
    "#ufile = f'{opath}uwnd.10m.{y}.nc'\n",
    "#ds_v = xr.open_dataset(vfile)\n",
    "#ds_u = xr.open_dataset(ufile)  \n",
    "#ds_windsp = np.sqrt(ds_u.uwnd**2 + ds_v.vwnd**2).to_dataset(name='wsmax').resample(time='1D').max('time')\n",
    "#ds_windsp.wsmax[180].plot()\n",
    "#ds_windsp.rio.write_crs(narr_proj4, inplace=True)\n",
    "#ds_windsp.wsmax[180].rio.to_raster('narr_full_grid.tif')"
   ]
  },
  {
   "cell_type": "code",
   "execution_count": null,
   "id": "e40f6821-d483-4293-9820-bbad73785e8c",
   "metadata": {},
   "outputs": [],
   "source": [
    "ds_narr_grid = xr.open_dataset('WindNinjaData/narr_full_grid.tif')\n",
    "# Plot the sample NARR grid\n",
    "#ds_narr_grid.band_data[0].plot()"
   ]
  },
  {
   "cell_type": "code",
   "execution_count": null,
   "id": "f6603149-c482-46f6-9b53-e941035c7954",
   "metadata": {},
   "outputs": [],
   "source": [
    "# Create a bufferd polygon for the project area (CONUS in this case)\n",
    "bnd_narr_proj_buff = bnd_narr_proj.buffer(32000)\n",
    "#bnd_narr_proj_buff.plot()"
   ]
  },
  {
   "cell_type": "code",
   "execution_count": null,
   "id": "e99f78d7-80d4-47ee-9dfb-26f2aef67ac1",
   "metadata": {},
   "outputs": [],
   "source": [
    "narr_clipped = ds_narr_grid.band_data[0].rio.clip(bnd_narr_proj_buff.geometry.values, bnd_narr_proj_buff.crs, drop=True,all_touched=True)\n",
    "narr_clipped.rio.to_raster('WindNinjaData/narr_mask_new.tif')"
   ]
  },
  {
   "cell_type": "code",
   "execution_count": null,
   "id": "2421932f-af88-4ef6-ae60-190fcb8b1f2f",
   "metadata": {},
   "outputs": [],
   "source": [
    "f,ax = plt.subplots()\n",
    "narr_clipped.plot(ax=ax)\n",
    "bnd_narr_proj.plot(ax=ax,facecolor='none',edgecolor='black')"
   ]
  },
  {
   "cell_type": "markdown",
   "id": "835532ff-b54a-499c-bb11-32445b3e775b",
   "metadata": {},
   "source": [
    "## I used QGIS to convert the pixels to polygons and I wrote that out as a shapefile called 'narr_mask.shp'."
   ]
  },
  {
   "cell_type": "code",
   "execution_count": null,
   "id": "990f57b5-4e62-41fb-885b-337a0557d026",
   "metadata": {},
   "outputs": [],
   "source": [
    "narr_grid_df = gpd.read_file('WindNinjaData/narr_mask.shp', engine='pyogrio', use_arrow=True)"
   ]
  },
  {
   "cell_type": "code",
   "execution_count": null,
   "id": "cc4e9b92-0a50-4bc4-9723-755c6a39424d",
   "metadata": {},
   "outputs": [],
   "source": [
    "narr_grid_df"
   ]
  },
  {
   "cell_type": "code",
   "execution_count": null,
   "id": "6e0ff1d3-be8c-4830-a5eb-32057c84c5e3",
   "metadata": {},
   "outputs": [],
   "source": [
    "#f,ax=plt.subplots(figsize=[12,4])\n",
    "#arr_grid_df.plot(ax=ax,facecolor='none',edgecolor='black')"
   ]
  },
  {
   "cell_type": "code",
   "execution_count": null,
   "id": "78c0a84f-caae-452e-8788-dc86a38f5a4d",
   "metadata": {},
   "outputs": [],
   "source": [
    "# Read the LANDFIRE DEM resampled to 240m using Nearest Neighbor\n",
    "ds_dem = xr.open_mfdataset(conus_dem_file,parallel=True)"
   ]
  },
  {
   "cell_type": "code",
   "execution_count": null,
   "id": "55db32c8-d1a7-470d-82b6-f28a0d02ddb4",
   "metadata": {},
   "outputs": [],
   "source": [
    "#narr_grid_df[7663:7667].plot(facecolor='none')"
   ]
  },
  {
   "cell_type": "code",
   "execution_count": null,
   "id": "cf510a50-f21f-4e81-a734-444139a7e1fd",
   "metadata": {},
   "outputs": [],
   "source": [
    "# Clip to the Montana boundary for display and mapping example\n",
    "xmin, ymin, xmax, ymax = -116.05114089810897,44.35832834237342,-104.04136319773197,49.00154597004969\n",
    "narr_grid_df_sub = narr_grid_df.cx[xmin:xmax, ymin:ymax]"
   ]
  },
  {
   "cell_type": "code",
   "execution_count": null,
   "id": "65c7a7d3-4b74-4998-aff4-72368aa3cecf",
   "metadata": {},
   "outputs": [],
   "source": [
    "# Extract an example polygon for a small point around Missoula, MT\n",
    "#xmin, ymin, xmax, ymax = -114.4,46.8721,-114.3,46.88\n",
    "#subpoly = narr_grid_df_sub.cx[xmin:xmax, ymin:ymax]"
   ]
  },
  {
   "cell_type": "code",
   "execution_count": null,
   "id": "1efe868d-6405-4528-99b3-079f11b8622f",
   "metadata": {},
   "outputs": [],
   "source": [
    "## Select a subpolygon by an index (802) covers Missoula to test the process\n",
    "subpoly = narr_grid_df[narr_grid_df.index == 802]\n",
    "# The grid is in WGS84 Geographic, and a pixel is ~ 0.3 degrees, so let's use that to create a buffer around our pixel\n",
    "subpolybuf = subpoly.buffer(0.3, join_style='mitre')\n",
    "print(subpolybuf.bounds)\n",
    "# Store the bounds of the buffered simulation polygon\n",
    "subpolybufbnds = subpolybuf.bounds\n",
    "# Let's reproject this buffered bounding box to UTM (Zone 12N in this example)\n",
    "subpoly_utm = subpoly.to_crs(\"EPSG:32612\")\n",
    "# Clip the DEM. Note: Original DEM is in the LANDFIRE project, this just uses a transform from the Geographic BBOX to clip it\n",
    "clipped_dem = ds_dem.rio.clip_box(minx=subpolybufbnds.minx, miny=subpolybufbnds.miny, maxx=subpolybufbnds.maxx, maxy=subpolybufbnds.maxy, crs=\"EPSG:4326\")\n",
    "# Note: Need to look up the UTM zones here from the subpoly centroid\n",
    "# Reproject the DEM to UTM\n",
    "clipped_dem_utm  = clipped_dem.rio.reproject(\"EPSG:32612\")\n",
    "#clipped_dem.rio.crs\n",
    "# Buffer the boundary by 1/2 pixel width\n",
    "subpolybufbnds = subpoly_utm.buffer(16000, join_style='mitre').bounds\n",
    "# Clip the DEM to the bounding box\n",
    "clipped_dem = clipped_dem_utm.rio.clip_box(minx=subpolybufbnds.minx, miny=subpolybufbnds.miny, maxx=subpolybufbnds.maxx,maxy=subpolybufbnds.maxy)\n"
   ]
  },
  {
   "cell_type": "code",
   "execution_count": null,
   "id": "86d198a3-8f87-415f-bef1-6a561c38b417",
   "metadata": {},
   "outputs": [],
   "source": [
    "ax = narr_grid_df_sub.plot(facecolor='none',edgecolor='black', figsize=(9, 9))\n",
    "cx.add_basemap(ax, crs=narr_grid_df_sub.crs)\n",
    "bnd.plot(ax=ax,facecolor='none',edgecolor='blue')\n",
    "subpoly.plot(ax=ax,facecolor='none',edgecolor='red')"
   ]
  },
  {
   "cell_type": "code",
   "execution_count": null,
   "id": "a66b8098-a9e7-4b79-a268-3ad9b4ab43e8",
   "metadata": {},
   "outputs": [],
   "source": [
    "# Plot the DEM in the native LANDFIRE projection\n",
    "f,ax = plt.subplots()\n",
    "clipped_dem.band_data[0].plot(ax=ax)\n",
    "subpoly.to_crs(clipped_dem.rio.crs).plot(ax=ax,facecolor='none', edgecolor='black')\n",
    "subpolybuf.to_crs(clipped_dem.rio.crs).plot(ax=ax,facecolor='none', edgecolor='black')\n",
    "ax.set_title(\"DEM in native LANDFIRE projection\")"
   ]
  },
  {
   "cell_type": "code",
   "execution_count": null,
   "id": "a15f4d74-5adb-401a-91e2-80b52d68ef28",
   "metadata": {},
   "outputs": [],
   "source": [
    "f,ax = plt.subplots()\n",
    "clipped_dem_utm.band_data[0].plot(ax=ax)\n",
    "subpoly_utm.buffer(16000, join_style='mitre').plot(ax=ax,facecolor='none',edgecolor='black')\n",
    "ax.set_title(\"DEM in UTM and the NARR pixel bounding box\")"
   ]
  },
  {
   "cell_type": "code",
   "execution_count": null,
   "id": "8b661f09-c4ae-42d0-adf0-289c9ff29f4f",
   "metadata": {},
   "outputs": [],
   "source": [
    "f,ax = plt.subplots()\n",
    "clipped_dem.band_data[0].plot(ax=ax)\n",
    "subpoly_utm.plot(ax=ax,facecolor='none')\n",
    "subpoly_utm.buffer(16000, join_style='mitre').plot(ax=ax,facecolor='none')\n",
    "ax.set_title(\"Final DEM for WindNinja in UTM\")"
   ]
  },
  {
   "cell_type": "markdown",
   "id": "8521ee73-a8f8-4e95-b553-02c79c6263da",
   "metadata": {},
   "source": [
    "## Iterate through the calls to WindNinja and map the calls to an IPyParallel cluster and view\n",
    "#### On my system, there are some errors looking for GDAL library files but it doesn't seem to impact the simulation outputs"
   ]
  },
  {
   "cell_type": "code",
   "execution_count": null,
   "id": "1a652441-263e-4f8d-bb53-5ace3801aba7",
   "metadata": {},
   "outputs": [],
   "source": [
    "# Grab the index for a polygon\n",
    "#simnum = int(subpoly.index.values[0])"
   ]
  },
  {
   "cell_type": "code",
   "execution_count": null,
   "id": "0f5c96f9-31c8-4ab6-a52a-7ffd56590b0a",
   "metadata": {},
   "outputs": [],
   "source": [
    "def RunWindNinjaNARRCell(narrgridpoly,index,utm_proj=\"EPSG:32612\"):\n",
    " \n",
    "    # Grab the index this for this polygon\n",
    "    simnum = index\n",
    "    simnumstr = str(simnum).zfill(7)\n",
    "    subpoly = narrgridpoly[narrgridpoly.index == index]\n",
    "    # The grid is in WGS84 Geographic, and a pixel is ~ 0.3 degrees, so let's use that to create a buffer around our pixel\n",
    "    subpolybuf = subpoly.buffer(0.3, join_style='mitre')\n",
    "    print(subpolybuf.bounds)\n",
    "    # Store the bounds of the buffered simulation polygon\n",
    "    subpolybufbnds = subpolybuf.bounds\n",
    "    # Let's reproject this buffered bounding box to UTM (Zone 12N in this example)\n",
    "    subpoly_utm = subpoly.to_crs(utm_proj)\n",
    "    # Clip the DEM. Note: Original DEM is in the LANDFIRE project, this just uses a transform from the Geographic BBOX to clip it\n",
    "    clipped_dem = ds_dem.rio.clip_box(minx=subpolybufbnds.minx, miny=subpolybufbnds.miny, maxx=subpolybufbnds.maxx, maxy=subpolybufbnds.maxy, crs=\"EPSG:4326\")\n",
    "    # Note: Need to look up the UTM zones here from the subpoly centroid\n",
    "    # Reproject the DEM to UTM\n",
    "    clipped_dem_utm  = clipped_dem.rio.reproject(utm_proj)\n",
    "    #clipped_dem.rio.crs\n",
    "    # Buffer the boundary by 1/2 pixel width\n",
    "    subpolybufbnds = subpoly_utm.buffer(16000, join_style='mitre').bounds\n",
    "    # Clip the DEM to the bounding box\n",
    "    clipped_dem = clipped_dem_utm.rio.clip_box(minx=subpolybufbnds.minx, miny=subpolybufbnds.miny, maxx=subpolybufbnds.maxx,maxy=subpolybufbnds.maxy)\n",
    "    \n",
    "    # Create the output path\n",
    "    path = f'{basedir}{simnumstr}/'\n",
    "    dempath = f'{path}{simnumstr}_dem.tif'\n",
    "    print(dempath)\n",
    "    \n",
    "    # Save the DEM to the simulation directory\n",
    "    clipped_dem.band_data[0].rio.to_raster(dempath)\n",
    "    \n",
    "    # Check whether the specified path exists or not\n",
    "    isExist = os.path.exists(path)\n",
    "    if not isExist:\n",
    "      # Create a new directory because it does not exist \n",
    "      os.makedirs(path)\n",
    "      print(\"The new data directory is created!\")\n",
    "        \n",
    "    arglist = []  # A list of all the individual simulations for WindNinja\n",
    "    nproc = 8\n",
    "    # Create a cluster with 8 processors\n",
    "    with ipp.Cluster(n=nproc) as rc:\n",
    "        # Create an array of the windspeed ranges\n",
    "        wdirrange = np.arange(0,360,45)\n",
    "        # get a view on the cluster\n",
    "        view = rc.load_balanced_view()    \n",
    "        for wd in wdirrange:\n",
    "            # Create the input args to to the WindNinja function\n",
    "            args = {'input_speed' : 5, 'input_direction' : wd, 'elevation_file' : dempath, 'WindNinja_cli':WindNinja_cli}\n",
    "            # Append the args to a simulation list\n",
    "            arglist.append(args)\n",
    "        # submit the tasks to the Cluster\n",
    "        # Map the list of function inputs to the function calls\n",
    "        syncresult = view.map(MakeAndCallWindNinjaCLICmd, arglist)\n",
    "        # wait for the threads to finish\n",
    "        syncresult.wait_interactive()\n",
    "        # retrieve actual results\n",
    "        result = syncresult.get()\n",
    "        "
   ]
  },
  {
   "cell_type": "code",
   "execution_count": null,
   "id": "e51aaddc-e1a6-401b-96b8-21d09fbf26a2",
   "metadata": {},
   "outputs": [],
   "source": [
    "# Run the WindNinja libraries for 3 cells, these are Missoula and the two cells West\n",
    "RunWindNinjaNARRCell(narr_grid_df,800)\n",
    "RunWindNinjaNARRCell(narr_grid_df,801)\n",
    "RunWindNinjaNARRCell(narr_grid_df,802)"
   ]
  },
  {
   "cell_type": "markdown",
   "id": "4228e76d-040f-4097-b85e-f1876ce5117e",
   "metadata": {},
   "source": [
    "## Let's look at some results from the 3 different NARR grid cells"
   ]
  },
  {
   "cell_type": "code",
   "execution_count": null,
   "id": "e8e1b79f-014c-49ee-af65-264262fd7e6a",
   "metadata": {},
   "outputs": [],
   "source": [
    "# Let's load three North Wind scenarios @ 5 mph for adjacent pixels\n",
    "f = f'{basedir}0000800/0000800_dem_0_5_240m_vel.asc'\n",
    "ds1 = xr.open_dataset(f)\n",
    "f = f'{basedir}0000801/0000801_dem_0_5_240m_vel.asc'\n",
    "ds2 = xr.open_dataset(f)\n",
    "f = f'{basedir}0000802/0000802_dem_0_5_240m_vel.asc'\n",
    "ds3 = xr.open_dataset(f)"
   ]
  },
  {
   "cell_type": "code",
   "execution_count": null,
   "id": "36d8dd4b-53e1-48f8-9106-90a71497f424",
   "metadata": {},
   "outputs": [],
   "source": [
    "subpoly1 = narr_grid_df[narr_grid_df.index == 800].to_crs(\"EPSG:32612\")\n",
    "subpoly2 = narr_grid_df[narr_grid_df.index == 801].to_crs(\"EPSG:32612\")\n",
    "subpoly3 = narr_grid_df[narr_grid_df.index == 802].to_crs(\"EPSG:32612\")"
   ]
  },
  {
   "cell_type": "code",
   "execution_count": null,
   "id": "4c65f897-f5a9-46ba-aefd-3cf62df59134",
   "metadata": {},
   "outputs": [],
   "source": [
    "#ax=subpoly1.plot(facecolor='none',edgecolor='black')\n",
    "#subpoly1.buffer(60).plot(facecolor='none',edgecolor='black',ax=ax)\n",
    "#subpoly2.plot(facecolor='none',edgecolor='black',ax=ax)\n",
    "#subpoly3.plot(facecolor='none',edgecolor='black',ax=ax)"
   ]
  },
  {
   "cell_type": "markdown",
   "id": "2f1a7927-ded0-4d1e-aeac-693d0a67f47c",
   "metadata": {},
   "source": [
    "## Clip the larger simulation down to the NARR pixel geometry with a 60m buffer to avoid striping "
   ]
  },
  {
   "cell_type": "code",
   "execution_count": null,
   "id": "d55a4330-7e01-43c1-ae5f-32d505b3dffe",
   "metadata": {},
   "outputs": [],
   "source": [
    "# If you don't buffer these images a little before clipping, you get seams of non-data in between. This seems to fix that.\n",
    "# This clips\n",
    "ds_clipped1 = ds1.rio.clip(subpoly1.buffer(60).geometry.values,subpoly1.crs, drop=True, invert=False).transpose('band', 'y', 'x')\n",
    "ds_clipped2 = ds2.rio.clip(subpoly2.buffer(60).geometry.values,subpoly2.crs, drop=True, invert=False).transpose('band', 'y', 'x')\n",
    "ds_clipped3 = ds3.rio.clip(subpoly3.buffer(60).geometry.values,subpoly3.crs, drop=True, invert=False).transpose('band', 'y', 'x')"
   ]
  },
  {
   "cell_type": "code",
   "execution_count": null,
   "id": "46852de4-2869-4d19-9048-5b9902955e83",
   "metadata": {},
   "outputs": [],
   "source": [
    "# Merge/Mosaic multiple rasters using merge_arrays method of rioxarray\n",
    "merged_raster = merge_arrays(dataarrays = [ds_clipped1.band_data[0],ds_clipped2.band_data[0],ds_clipped3.band_data[0]], res = (240, 240), crs=\"EPSG:32612\", nodata = -999.9)\n",
    " "
   ]
  },
  {
   "cell_type": "code",
   "execution_count": null,
   "id": "65338956-072d-4968-8c51-e4a544e14c44",
   "metadata": {},
   "outputs": [],
   "source": [
    "f,ax = plt.subplots()\n",
    "merged_raster.rio.reproject(\"EPSG:5070\").plot(levels=[0,1,2,3,4,5,6,7,8,9,10,12,15,18],cmap='RdYlBu_r',ax=ax)\n",
    "subpoly1.to_crs(\"EPSG:5070\").plot(ax=ax,facecolor='none',edgecolor='black')\n",
    "subpoly2.to_crs(\"EPSG:5070\").plot(ax=ax,facecolor='none',edgecolor='black')\n",
    "subpoly3.to_crs(\"EPSG:5070\").plot(ax=ax,facecolor='none',edgecolor='black')\n",
    "ax.set_title('North Wind @ 5mph for 3 NARR cells')"
   ]
  },
  {
   "cell_type": "code",
   "execution_count": null,
   "id": "482bab3e-aedb-4ae9-a6ca-b1a9f87e1291",
   "metadata": {},
   "outputs": [],
   "source": []
  }
 ],
 "metadata": {
  "kernelspec": {
   "display_name": "Python 3 (ipykernel)",
   "language": "python",
   "name": "python3"
  },
  "language_info": {
   "codemirror_mode": {
    "name": "ipython",
    "version": 3
   },
   "file_extension": ".py",
   "mimetype": "text/x-python",
   "name": "python",
   "nbconvert_exporter": "python",
   "pygments_lexer": "ipython3",
   "version": "3.12.5"
  }
 },
 "nbformat": 4,
 "nbformat_minor": 5
}
